{
  "nbformat": 4,
  "nbformat_minor": 0,
  "metadata": {
    "colab": {
      "provenance": [],
      "authorship_tag": "ABX9TyNWHKXUOHpiYfV2RFGPiVM1",
      "include_colab_link": true
    },
    "kernelspec": {
      "name": "python3",
      "display_name": "Python 3"
    },
    "language_info": {
      "name": "python"
    }
  },
  "cells": [
    {
      "cell_type": "markdown",
      "metadata": {
        "id": "view-in-github",
        "colab_type": "text"
      },
      "source": [
        "<a href=\"https://colab.research.google.com/github/Shurnz8760/Student/blob/main/Ferguson_Shurniedayle_PythonCode_ITT103_F2023_py.ipynb\" target=\"_parent\"><img src=\"https://colab.research.google.com/assets/colab-badge.svg\" alt=\"Open In Colab\"/></a>"
      ]
    },
    {
      "cell_type": "code",
      "execution_count": 7,
      "metadata": {
        "colab": {
          "base_uri": "https://localhost:8080/"
        },
        "id": "l8h97MBaH4ik",
        "outputId": "44f9e9fe-8e68-4cf2-fc70-8acf4194329a"
      },
      "outputs": [
        {
          "output_type": "stream",
          "name": "stdout",
          "text": [
            "UCC Signature Express Limited <Drive In-Style With UCC>\n",
            "Reservation Options\n",
            "First Class (F/f)\n",
            "Business Class (B/b)\n",
            "Economy Class (E/e)\n",
            "Quit or Cancel (Q/q)\n",
            "Please select an option\n",
            "Please select an option: E\n",
            "Enter row number (1-14): 5\n",
            "Enter column number (1-4): 3\n",
            "Reserved seat in Economy Class: Row 5, Column 3\n",
            "UCC Signature Express Limited <Drive In-Style With UCC>\n",
            "Reservation Options\n",
            "First Class (F/f)\n",
            "Business Class (B/b)\n",
            "Economy Class (E/e)\n",
            "Quit or Cancel (Q/q)\n",
            "Please select an option\n",
            "Please select an option: Q\n",
            "Reservation Type, Total number of capacity, Number of seats reserved\n",
            "First Class, 27, 0\n",
            "Business Class, 38, 0\n",
            "Economy Class, 56, 1\n"
          ]
        }
      ],
      "source": [
        "#Shurniedayle Ferguson,\n",
        "# December 11, 2023\n",
        "# ITT103\n",
        "# To allow users to reserve seats in different class\n",
        "# Constants\n",
        "FIRST_CLASS_CAPACITY = 27\n",
        "BUSINESS_CLASS_CAPACITY = 38\n",
        "ECONOMY_CLASS_CAPACITY = 56\n",
        "\n",
        "# Declarations\n",
        "first_class_seats_reserved = 2\n",
        "business_class_seats_reserved = 2\n",
        "economy_class_seats_reserved = 2\n",
        "\n",
        "# Counters for total reservations\n",
        "total_first_class_reserved = 0\n",
        "total_business_class_reserved = 0\n",
        "total_economy_class_reserved = 0\n",
        "\n",
        "# 2D array representing seat availability\n",
        "bus_seats = [[False] * 4 for _ in range(14)]  # Assuming a bus layout with 14 rows and 4 columns\n",
        "\n",
        "# Function to display reservation options\n",
        "def display_options():\n",
        "    print(\"UCC Signature Express Limited <Drive In-Style With UCC>\")\n",
        "    print(\"Reservation Options\")\n",
        "    print(\"First Class (F/f)\")\n",
        "    print(\"Business Class (B/b)\")\n",
        "    print(\"Economy Class (E/e)\")\n",
        "    print(\"Quit or Cancel (Q/q)\")\n",
        "    print(\"Please select an option\")\n",
        "\n",
        "# Function to reserve a seat\n",
        "def reserve_seat(seat_class_capacity, seats_reserved, class_name, total_reserved):\n",
        "    row_number = int(input(\"Enter row number (1-14): \")) - 1\n",
        "    column_number = int(input(\"Enter column number (1-4): \")) - 1\n",
        "\n",
        "    if row_number < 0 or column_number < 0:\n",
        "        print(\"Row and column numbers must be positive and greater than zero.\")\n",
        "        return\n",
        "\n",
        "    if seat_already_reserved(row_number, column_number):\n",
        "        print(\"Seat already reserved! Please choose another seat.\")\n",
        "    else:\n",
        "        bus_seats[row_number][column_number] = True\n",
        "        print(f\"Reserved seat in {class_name}: Row {row_number + 1}, Column {column_number + 1}\")\n",
        "\n",
        "        seats_reserved += 1\n",
        "        total_reserved += 1\n",
        "\n",
        "        if all_seats_reserved(seats_reserved, seat_class_capacity):\n",
        "            print(\"No more available seats!\")\n",
        "\n",
        "    return seats_reserved, total_reserved\n",
        "\n",
        "# Function to check if a seat is already reserved\n",
        "def seat_already_reserved(row_number, column_number):\n",
        "    return bus_seats[row_number][column_number]\n",
        "\n",
        "# Function to check if all seats are reserved\n",
        "def all_seats_reserved(seats_reserved, seat_class_capacity):\n",
        "    return seats_reserved >= seat_class_capacity\n",
        "\n",
        "# Main program\n",
        "while True:\n",
        "    display_options()\n",
        "    user_choice = input(\"Please select an option: \")\n",
        "\n",
        "    if user_choice.lower() == 'f':\n",
        "        first_class_seats_reserved, total_first_class_reserved = reserve_seat(\n",
        "            FIRST_CLASS_CAPACITY, first_class_seats_reserved, \"First Class\", total_first_class_reserved\n",
        "        )\n",
        "    elif user_choice.lower() == 'b':\n",
        "        business_class_seats_reserved, total_business_class_reserved = reserve_seat(\n",
        "            BUSINESS_CLASS_CAPACITY, business_class_seats_reserved, \"Business Class\", total_business_class_reserved\n",
        "        )\n",
        "    elif user_choice.lower() == 'e':\n",
        "        economy_class_seats_reserved, total_economy_class_reserved = reserve_seat(\n",
        "            ECONOMY_CLASS_CAPACITY, economy_class_seats_reserved, \"Economy Class\", total_economy_class_reserved\n",
        "        )\n",
        "    elif user_choice.lower() == 'q':\n",
        "        print(\"Reservation Type, Total number of capacity, Number of seats reserved\")\n",
        "        print(f\"First Class, {FIRST_CLASS_CAPACITY}, {total_first_class_reserved}\")\n",
        "        print(f\"Business Class, {BUSINESS_CLASS_CAPACITY}, {total_business_class_reserved}\")\n",
        "        print(f\"Economy Class, {ECONOMY_CLASS_CAPACITY}, {total_economy_class_reserved}\")\n",
        "        break\n",
        "    else:\n",
        "        print(\"Invalid choice. Please select a valid option.\")\n"
      ]
    },
    {
      "cell_type": "code",
      "source": [],
      "metadata": {
        "id": "RPVMqe59LxSs"
      },
      "execution_count": null,
      "outputs": []
    }
  ]
}